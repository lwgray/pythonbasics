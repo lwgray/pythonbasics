{
 "cells": [
  {
   "cell_type": "markdown",
   "metadata": {
    "slideshow": {
     "slide_type": "notes"
    }
   },
   "source": [
    "# Control Flow\n",
    "\n",
    "Control flow is a concept that allows the Python interpreter to react to different comparison expressions and divert into different logic depending on how that comparison evaluated. \n",
    "\n",
    "There's several ways to control the flow of logic that we'll discuss here:\n",
    " - `if/elif/else` statements\n",
    " - `while` loops\n",
    " - `for` loops\n",
    " - `pass`,  `break`, and `continue`\n",
    " \n",
    "### `if/elif/else`\n",
    "Let's start with `if/elif/else` statements. Similar to its English equivalent, an `if` statement will evaluate some comparison, and **if** it evaluates to `True`, will conduct the logic belonging to that `if` statement.\n",
    " \n",
    "Ownership of logic is specified in Python via **indentation**. A **block** of code indented under a control flow statement belongs to that control condition and will only execute when the condition is met.\n",
    "\n",
    "Let's take a look:\n",
    " "
   ]
  },
  {
   "cell_type": "code",
   "execution_count": null,
   "metadata": {
    "slideshow": {
     "slide_type": "slide"
    }
   },
   "outputs": [],
   "source": [
    "if True:\n",
    "    print(\"We love Python!\")"
   ]
  },
  {
   "cell_type": "markdown",
   "metadata": {
    "slideshow": {
     "slide_type": "fragment"
    }
   },
   "source": [
    "# Anatomy of an `if` statement\n",
    "\n",
    "if <font color='orange'>conditional_expression</font>:<br>\n",
    "&nbsp;&nbsp;&nbsp;&nbsp;<font color='gray'>your_code_here</font><br>\n",
    "&nbsp;&nbsp;&nbsp;&nbsp;<font color='gray'>your_code_here</font><br>\n",
    "&nbsp;&nbsp;&nbsp;&nbsp;<font color='gray'>your_code_here</font><br>"
   ]
  },
  {
   "cell_type": "markdown",
   "metadata": {
    "slideshow": {
     "slide_type": "subslide"
    }
   },
   "source": [
    "### SPACING matters"
   ]
  },
  {
   "cell_type": "code",
   "execution_count": null,
   "metadata": {
    "slideshow": {
     "slide_type": "fragment"
    }
   },
   "outputs": [],
   "source": [
    "if 5 > 4:\n",
    "    print(\"Math still works!\")"
   ]
  },
  {
   "cell_type": "code",
   "execution_count": null,
   "metadata": {
    "slideshow": {
     "slide_type": "fragment"
    }
   },
   "outputs": [],
   "source": [
    "if 5 > 4:\n",
    "    print(\"Math still works!\")\n",
    " print(\"but bad spacing causes errors!\")"
   ]
  },
  {
   "cell_type": "markdown",
   "metadata": {
    "slideshow": {
     "slide_type": "notes"
    }
   },
   "source": [
    "`elif` is short for/a smash together of the phrase \"else if\", which will specify a further condition to test in case the first one doesn't evaluate to True. In a long string of `if/elif` statements, once one of the control statements evaluates to True, it will run the associated block of code and then stop testing the remainder of the control statements. Let's see it in action:"
   ]
  },
  {
   "cell_type": "code",
   "execution_count": null,
   "metadata": {
    "slideshow": {
     "slide_type": "slide"
    }
   },
   "outputs": [],
   "source": [
    "if False:\n",
    "    print(\"Impossible to get here\")\n",
    "elif True:\n",
    "    print(\"Hi everyone!\")"
   ]
  },
  {
   "cell_type": "markdown",
   "metadata": {
    "slideshow": {
     "slide_type": "fragment"
    }
   },
   "source": [
    "# Anatomy of an `if`/`elif` statement\n",
    "\n",
    "if <font color='orange'>conditional_expression</font>:<br>\n",
    "&nbsp;&nbsp;&nbsp;&nbsp;<font color='gray'>your_code_here</font><br>\n",
    "&nbsp;&nbsp;&nbsp;&nbsp;<font color='gray'>your_code_here</font><br>\n",
    "&nbsp;&nbsp;&nbsp;&nbsp;<font color='gray'>your_code_here</font><br>\n",
    "elif <font color='orange'>another_conditional_expression</font>:<br>\n",
    "&nbsp;&nbsp;&nbsp;&nbsp;<font color='gray'>your_code_here</font><br>\n",
    "&nbsp;&nbsp;&nbsp;&nbsp;<font color='gray'>your_code_here</font><br>\n",
    "&nbsp;&nbsp;&nbsp;&nbsp;<font color='gray'>your_code_here</font><br>"
   ]
  },
  {
   "cell_type": "markdown",
   "metadata": {
    "slideshow": {
     "slide_type": "subslide"
    }
   },
   "source": [
    "###  The first true conditional statement block is the **only** one that executes in a chain of `if`/`elif` statements"
   ]
  },
  {
   "cell_type": "code",
   "execution_count": null,
   "metadata": {
    "slideshow": {
     "slide_type": "fragment"
    }
   },
   "outputs": [],
   "source": [
    "if False:\n",
    "    print(\"Impossible to get here\")\n",
    "elif True:\n",
    "    print(\"Hi everyone!\")\n",
    "elif True:\n",
    "    print(\"You won't ever see this message, even though the conditional is true\")"
   ]
  },
  {
   "cell_type": "markdown",
   "metadata": {
    "slideshow": {
     "slide_type": "notes"
    }
   },
   "source": [
    "`else` is a final control statment to include that needs no comparison to evaluate, because it is the case that should be execute if all other control statements in the `if/elif/else` chain fail. Basically, it is the catch all for \"all other conditions not yet specified\"."
   ]
  },
  {
   "cell_type": "code",
   "execution_count": null,
   "metadata": {
    "slideshow": {
     "slide_type": "subslide"
    }
   },
   "outputs": [],
   "source": [
    "if False:\n",
    "    print(\"Impossible to get here\")\n",
    "elif False:\n",
    "    print(\"Impossible to get here too!\")\n",
    "else:\n",
    "    print(\"This is a stupid example, right?\")"
   ]
  },
  {
   "cell_type": "markdown",
   "metadata": {
    "slideshow": {
     "slide_type": "fragment"
    }
   },
   "source": [
    "# Anatomy of an `if`/`elif`/`else` statement\n",
    "\n",
    "if <font color='orange'>conditional_expression</font>:<br>\n",
    "&nbsp;&nbsp;&nbsp;&nbsp;<font color='gray'>your_code_here</font><br>\n",
    "&nbsp;&nbsp;&nbsp;&nbsp;<font color='gray'>your_code_here</font><br>\n",
    "&nbsp;&nbsp;&nbsp;&nbsp;<font color='gray'>your_code_here</font><br>\n",
    "elif <font color='orange'>another_conditional_expression</font>:<br>\n",
    "&nbsp;&nbsp;&nbsp;&nbsp;<font color='gray'>your_code_here</font><br>\n",
    "&nbsp;&nbsp;&nbsp;&nbsp;<font color='gray'>your_code_here</font><br>\n",
    "&nbsp;&nbsp;&nbsp;&nbsp;<font color='gray'>your_code_here</font><br>\n",
    "else:<br>\n",
    "&nbsp;&nbsp;&nbsp;&nbsp;<font color='gray'>your_code_here</font><br>\n",
    "&nbsp;&nbsp;&nbsp;&nbsp;<font color='gray'>your_code_here</font><br>\n",
    "&nbsp;&nbsp;&nbsp;&nbsp;<font color='gray'>your_code_here</font><br>"
   ]
  },
  {
   "cell_type": "markdown",
   "metadata": {
    "slideshow": {
     "slide_type": "notes"
    }
   },
   "source": [
    "Let's run through a configurable case to see how different combinations of if/elif/else statements might work (Bob/Sally/else example)"
   ]
  },
  {
   "cell_type": "markdown",
   "metadata": {
    "slideshow": {
     "slide_type": "notes"
    }
   },
   "source": [
    "### `while` loops\n",
    "\n",
    "A while loop will run an associated code block for as long as a condition evaluates to `True`. Once the specified condition stops evaluating to `True`, the control will escape the code block. For this reason, you should generally always be evaluating a `while` statement against some changing parameter that will eventually become `False`. Let's take a look:"
   ]
  },
  {
   "cell_type": "code",
   "execution_count": null,
   "metadata": {
    "slideshow": {
     "slide_type": "slide"
    }
   },
   "outputs": [],
   "source": [
    "some_number = 10 \n",
    "    \n",
    "while some_number > 0:\n",
    "    print(some_number)\n",
    "    some_number = some_number - 1\n"
   ]
  },
  {
   "cell_type": "markdown",
   "metadata": {
    "slideshow": {
     "slide_type": "fragment"
    }
   },
   "source": [
    "# Anatomy of a `while` loop\n",
    "\n",
    "while <font color='orange'>a_conditional_expression_you_expect_to_change_over_time</font>:<br>\n",
    "&nbsp;&nbsp;&nbsp;&nbsp;<font color='gray'>your_code_here</font><br>\n",
    "&nbsp;&nbsp;&nbsp;&nbsp;<font color='gray'>your_code_here</font><br>\n",
    "&nbsp;&nbsp;&nbsp;&nbsp;<font color='gray'>your_code_here</font><br>"
   ]
  },
  {
   "cell_type": "markdown",
   "metadata": {
    "slideshow": {
     "slide_type": "notes"
    }
   },
   "source": [
    "You'll get yourself and the Python interpreter stuck if you set up a `while` loop to check a condition that never changes or that will never be False. So watch out!"
   ]
  },
  {
   "cell_type": "markdown",
   "metadata": {
    "slideshow": {
     "slide_type": "notes"
    }
   },
   "source": [
    "### `for` loops\n",
    "\n",
    "So earlier on I was not entirely thorough about the definitions of some data types (in fact, many times..). But it will now become useful to explain that certain data types have the property of being **iterable**. This generally applies to data types that are collections of values and means that you can increment across some index to access each individual value in a data structure. We practiced selecting specific indicies to get a single value out, such as `our_list[0]` or `our_dict['item_one']`. `for` loops will increment across the entire index and evaluate the associated code block once for each index. Let's see it happen:"
   ]
  },
  {
   "cell_type": "code",
   "execution_count": null,
   "metadata": {
    "slideshow": {
     "slide_type": "slide"
    }
   },
   "outputs": [],
   "source": [
    "an_iterable = [1,2,3,4]\n",
    "for value in an_iterable:\n",
    "    print(value)"
   ]
  },
  {
   "cell_type": "markdown",
   "metadata": {
    "slideshow": {
     "slide_type": "fragment"
    }
   },
   "source": [
    "# Anatomy of a `for` loop\n",
    "for <font color='purple'>nickname_variable</font> in <font color=\"orange\">iterable</font>:<br>\n",
    "&nbsp;&nbsp;&nbsp;&nbsp;<font color='gray'>your_code_here</font><br>\n",
    "&nbsp;&nbsp;&nbsp;&nbsp;<font color='gray'>your_code_here</font><br>\n",
    "&nbsp;&nbsp;&nbsp;&nbsp;<font color='gray'>your_code_here</font><br>"
   ]
  },
  {
   "cell_type": "code",
   "execution_count": null,
   "metadata": {
    "slideshow": {
     "slide_type": "subslide"
    }
   },
   "outputs": [],
   "source": [
    "# call \"nickname_variable\" whatever you want\n",
    "a_different_iterable = (\"a\", \"b\", \"c\", \"d\")\n",
    "for banana in a_different_iterable:\n",
    "    print(banana)"
   ]
  },
  {
   "cell_type": "markdown",
   "metadata": {
    "slideshow": {
     "slide_type": "notes"
    }
   },
   "source": [
    "### `pass`, `break`, and `continue`\n",
    "\n",
    "Besides doing some sort of specific action as the logic in a code block for a specific control flow statement, we have a number of other options preserved in the `pass`, `break`, and `continue` statements. Let's look at each one one at a time.\n",
    "\n",
    "`pass` is the logic equivalent of `None`; it basically means do nothing. Syntactically you cannot have no code block associate with a control flow statement, so this gives you a way to specify explicitly that this line should simply be passed over:"
   ]
  },
  {
   "cell_type": "markdown",
   "metadata": {
    "slideshow": {
     "slide_type": "slide"
    }
   },
   "source": [
    "### The `pass` keyword"
   ]
  },
  {
   "cell_type": "code",
   "execution_count": null,
   "metadata": {
    "slideshow": {
     "slide_type": "fragment"
    }
   },
   "outputs": [],
   "source": [
    "if True:\n",
    "    pass"
   ]
  },
  {
   "cell_type": "markdown",
   "metadata": {
    "slideshow": {
     "slide_type": "notes"
    }
   },
   "source": [
    "See? Nothing happened. It evaluated to True, but it simply passed on.\n",
    "\n",
    "Next we have `break`. This statement will break out of the current control flow entirely. It's a way to abort continuing the control flow you are in. For example with a `for` loop, maybe you stop caring about the list you're iterating on after the value 4. In that case, you can check with an if statement and break the for loop using `break`:"
   ]
  },
  {
   "cell_type": "markdown",
   "metadata": {
    "slideshow": {
     "slide_type": "slide"
    }
   },
   "source": [
    "### The `break` keyword"
   ]
  },
  {
   "cell_type": "code",
   "execution_count": null,
   "metadata": {
    "slideshow": {
     "slide_type": "fragment"
    }
   },
   "outputs": [],
   "source": [
    "for x in [1,2,3,4,5,6,7,8]:\n",
    "    if x==4:\n",
    "        break\n",
    "    print(x)\n",
    "    "
   ]
  },
  {
   "cell_type": "markdown",
   "metadata": {
    "slideshow": {
     "slide_type": "notes"
    }
   },
   "source": [
    "A complimentary concept is that of `continue`. Using `continue`, you can return control to the outer control loop instantly, bypassing the rest of the associated code block. For example, maybe you want to skip the value 4 but continue processing the rest of the values in the list. You could do that by checking against the value 4, and continuing the outer for loop if you've reached it. For example:"
   ]
  },
  {
   "cell_type": "markdown",
   "metadata": {
    "slideshow": {
     "slide_type": "slide"
    }
   },
   "source": [
    "### The `continue` keyword"
   ]
  },
  {
   "cell_type": "code",
   "execution_count": null,
   "metadata": {
    "slideshow": {
     "slide_type": "fragment"
    }
   },
   "outputs": [],
   "source": [
    "for x in [1,2,3,4,5,6,7,8]:\n",
    "    if x==4:\n",
    "        continue\n",
    "    print(x)\n",
    "    "
   ]
  },
  {
   "cell_type": "markdown",
   "metadata": {
    "slideshow": {
     "slide_type": "slide"
    }
   },
   "source": [
    "# Exercise\n",
    "# Get your feet wet\n",
    "\n",
    "1. Assign a list of any integers you like to a variable called `my_list`. Use a for loop to iterate through that list, printing out the result of each integer plus 1.\n",
    "2. Make a NEW list full of any data you like. Create a while loop that checks that the length of that list is greater than zero, and then calls the `pop` **method** with no arguments on that list during each while loop.\n",
    "  - Check what the value of your list once this is done! Why do you think that is? What does the `pop` method do?\n",
    "3. Write an `if` statement that checks for equality between `4` and `4.0`, and prints a string if so (maybe fill the string with a compliment to yourself!). Write it again but check for object identity between `4` and `4.0` in the `if` condition instead."
   ]
  },
  {
   "cell_type": "code",
   "execution_count": null,
   "metadata": {},
   "outputs": [],
   "source": [
    "# Assign a list of any integers you like to a variable called `my_list`. \n",
    "# Use a for loop to iterate through that list, printing out the result of each integer plus 1.\n",
    "\n",
    "my_list = \n",
    "for ??? in my_list:\n",
    "    print(???)"
   ]
  },
  {
   "cell_type": "code",
   "execution_count": null,
   "metadata": {},
   "outputs": [],
   "source": [
    "#2. Make a NEW list full of any data you like. \n",
    "#Create a while loop that checks that the length of that list is greater than zero, and then calls the `pop` **method** with no arguments on that list during each while loop.\n",
    "#  - Check what the value of your list once this is done! Why do you think that is? What does the `pop` method do?\n",
    "\n",
    "new_list = \n",
    "while ___ > 0:\n",
    "    new_list.___()\n",
    "print(new_list)"
   ]
  },
  {
   "cell_type": "code",
   "execution_count": null,
   "metadata": {},
   "outputs": [],
   "source": [
    "#3. Write an `if` statement that checks for equality between `4` and `4.0`, \n",
    "#and prints a string if so (maybe fill the string with a compliment to yourself!). \n",
    "#Write it again but check for object identity between `4` and `4.0` in the `if` condition instead.\n",
    "\n",
    "__ 4 == 4.0_\n",
    "    print(___)\n",
    "    \n",
    "__ 4 _ 4.0_\n",
    "    print(___)"
   ]
  },
  {
   "cell_type": "markdown",
   "metadata": {
    "slideshow": {
     "slide_type": "notes"
    }
   },
   "source": [
    "# Time to write our OWN functions!\n",
    "\n",
    "Alright, now it's going to get really good. We've learned about data types, about built-in functions and methods, about comparisons and about control flow. Now we can start writing our own functions that will represent reusable pieces of logic that we can parameterize with different arguments!!\n",
    "\n",
    "The syntax for defining a function is below. Basically you need to have a name of the function (so you can call it later), and names for each of the arguments you're expecting to get passed so you can use them as placeholders for the body of your function. The name and arguments of a function are known as its **signature**. The code block associated with a given signature is the **function body**."
   ]
  },
  {
   "cell_type": "markdown",
   "metadata": {
    "slideshow": {
     "slide_type": "slide"
    }
   },
   "source": [
    "## Tour de Python ○○○●\n",
    "\n",
    "* writing function definitions\n",
    "* `return`s\n",
    "* writing scripts and executing them from the command line"
   ]
  },
  {
   "cell_type": "code",
   "execution_count": null,
   "metadata": {
    "slideshow": {
     "slide_type": "slide"
    }
   },
   "outputs": [],
   "source": [
    "def say_hello(greeting):\n",
    "    print(greeting)"
   ]
  },
  {
   "cell_type": "markdown",
   "metadata": {
    "slideshow": {
     "slide_type": "notes"
    }
   },
   "source": [
    "Now if we actually call the function we just defined and send it an argument for the `greeting` variable, it will execute the logic against that argument and print out the string we sent it:"
   ]
  },
  {
   "cell_type": "code",
   "execution_count": null,
   "metadata": {
    "slideshow": {
     "slide_type": "fragment"
    }
   },
   "outputs": [],
   "source": [
    "say_hello(\"hello!\")"
   ]
  },
  {
   "cell_type": "markdown",
   "metadata": {
    "slideshow": {
     "slide_type": "fragment"
    }
   },
   "source": [
    "# Anatomy of a function definition\n",
    "\n",
    "def <font color='orange'>function_namespace</font>(<font color=\"purple\">nickname_for_argument_one</font>, <font color=\"purple\">nickname_for_argument_two</font>, <font color=\"gray\">...</font>):<br>\n",
    "&nbsp;&nbsp;&nbsp;&nbsp;<font color='gray'>your_code_here</font><br>\n",
    "&nbsp;&nbsp;&nbsp;&nbsp;<font color='gray'>your_code_here</font><br>\n",
    "&nbsp;&nbsp;&nbsp;&nbsp;<font color='gray'>use </font><font color=\"purple\">nickname_for_argument</font><font color='gray'> in your code if you want</font><br>"
   ]
  },
  {
   "cell_type": "markdown",
   "metadata": {
    "slideshow": {
     "slide_type": "notes"
    }
   },
   "source": [
    "This has been danced around to you so far, but one thing that functions (or methods) must do is `return` a value. This way you can execute some action and receive the results of that action back, for use later. Once you `return` from a function, no more logic of that function is executed; so it is similar to `break` in that way. See below:"
   ]
  },
  {
   "cell_type": "code",
   "execution_count": null,
   "metadata": {
    "slideshow": {
     "slide_type": "slide"
    }
   },
   "outputs": [],
   "source": [
    "def plus_one(number):\n",
    "    return number+1"
   ]
  },
  {
   "cell_type": "code",
   "execution_count": null,
   "metadata": {
    "slideshow": {
     "slide_type": "fragment"
    }
   },
   "outputs": [],
   "source": [
    "y = plus_one(1)"
   ]
  },
  {
   "cell_type": "code",
   "execution_count": null,
   "metadata": {
    "slideshow": {
     "slide_type": "fragment"
    }
   },
   "outputs": [],
   "source": [
    "y"
   ]
  },
  {
   "cell_type": "markdown",
   "metadata": {
    "slideshow": {
     "slide_type": "fragment"
    }
   },
   "source": [
    "# Anatomy of a function definition with return statement\n",
    "\n",
    "def <font color='orange'>function_namespace</font>(<font color=\"purple\">nickname_for_argument_one</font>, <font color=\"purple\">nickname_for_argument_two</font>, <font color=\"gray\">...</font>):<br>\n",
    "&nbsp;&nbsp;&nbsp;&nbsp;<font color='gray'>your_code_here</font><br>\n",
    "&nbsp;&nbsp;&nbsp;&nbsp;<font color='gray'>your_code_here</font><br>\n",
    "&nbsp;&nbsp;&nbsp;&nbsp;<font color='gray'>use__</font><font color=\"purple\">nickname_for_argument</font><font color='gray'>in_your_code_if_you_want</font><br>\n",
    "&nbsp;&nbsp;&nbsp;&nbsp;return <font color='gray'>whatever_you_want_to_return<br>"
   ]
  },
  {
   "cell_type": "markdown",
   "metadata": {
    "slideshow": {
     "slide_type": "notes"
    }
   },
   "source": [
    "Hopefully this toy example shows you how powerful it is to define functions and `return` values from them. You can pass around values `return`ed from one function into another function all the live long day!"
   ]
  },
  {
   "cell_type": "code",
   "execution_count": null,
   "metadata": {
    "slideshow": {
     "slide_type": "subslide"
    }
   },
   "outputs": [],
   "source": [
    "def minus_one(number):\n",
    "    return number-1"
   ]
  },
  {
   "cell_type": "code",
   "execution_count": null,
   "metadata": {
    "slideshow": {
     "slide_type": "fragment"
    }
   },
   "outputs": [],
   "source": [
    "p = plus_one(10)"
   ]
  },
  {
   "cell_type": "code",
   "execution_count": null,
   "metadata": {
    "slideshow": {
     "slide_type": "fragment"
    }
   },
   "outputs": [],
   "source": [
    "p"
   ]
  },
  {
   "cell_type": "code",
   "execution_count": null,
   "metadata": {
    "slideshow": {
     "slide_type": "fragment"
    }
   },
   "outputs": [],
   "source": [
    "m = minus_one(p)"
   ]
  },
  {
   "cell_type": "code",
   "execution_count": null,
   "metadata": {
    "slideshow": {
     "slide_type": "fragment"
    }
   },
   "outputs": [],
   "source": [
    "m"
   ]
  },
  {
   "cell_type": "markdown",
   "metadata": {
    "slideshow": {
     "slide_type": "slide"
    }
   },
   "source": [
    "If you do not specify an explicit `return` statement from within a function, by default it will return the value `None`:"
   ]
  },
  {
   "cell_type": "code",
   "execution_count": null,
   "metadata": {
    "slideshow": {
     "slide_type": "fragment"
    }
   },
   "outputs": [],
   "source": [
    "def no_return():\n",
    "    pass"
   ]
  },
  {
   "cell_type": "code",
   "execution_count": null,
   "metadata": {
    "slideshow": {
     "slide_type": "fragment"
    }
   },
   "outputs": [],
   "source": [
    "result = no_return()"
   ]
  },
  {
   "cell_type": "code",
   "execution_count": null,
   "metadata": {
    "slideshow": {
     "slide_type": "fragment"
    }
   },
   "outputs": [],
   "source": [
    "type(result)"
   ]
  },
  {
   "cell_type": "markdown",
   "metadata": {
    "slideshow": {
     "slide_type": "subslide"
    }
   },
   "source": [
    "Note, your code block can \"do something\" while still having no `return` statement, and thus not `return` anything!"
   ]
  },
  {
   "cell_type": "code",
   "execution_count": null,
   "metadata": {
    "slideshow": {
     "slide_type": "fragment"
    }
   },
   "outputs": [],
   "source": [
    "def also_no_return():\n",
    "    print(\"Howdy!!\")"
   ]
  },
  {
   "cell_type": "code",
   "execution_count": null,
   "metadata": {
    "slideshow": {
     "slide_type": "fragment"
    }
   },
   "outputs": [],
   "source": [
    "result = also_no_return()"
   ]
  },
  {
   "cell_type": "code",
   "execution_count": null,
   "metadata": {
    "slideshow": {
     "slide_type": "fragment"
    }
   },
   "outputs": [],
   "source": [
    "type(result)"
   ]
  },
  {
   "cell_type": "markdown",
   "metadata": {
    "slideshow": {
     "slide_type": "subslide"
    }
   },
   "source": [
    "The first `return` statement your code encounters in a function aborts execution of that function. Watch this example below!"
   ]
  },
  {
   "cell_type": "code",
   "execution_count": null,
   "metadata": {
    "slideshow": {
     "slide_type": "fragment"
    }
   },
   "outputs": [],
   "source": [
    "def return_before_saying_goodbye():\n",
    "    print(\"hello!\")\n",
    "    return 1\n",
    "    print(\"goodbye!\")"
   ]
  },
  {
   "cell_type": "code",
   "execution_count": null,
   "metadata": {
    "slideshow": {
     "slide_type": "fragment"
    }
   },
   "outputs": [],
   "source": [
    "return_before_saying_goodbye()"
   ]
  },
  {
   "cell_type": "markdown",
   "metadata": {
    "slideshow": {
     "slide_type": "slide"
    }
   },
   "source": [
    "# Writing Scripts ⇢\n",
    "\n",
    "* Scripts are stored in files ending in `.py` and contain Python code. ⇢\n",
    "* You can execute them on the command line with `python path/to/script.py`. ⇢\n",
    "   * This will no longer drop you into an interactive shell, but instead evaluate all of the Python logic inside that `script.py`. ⇢"
   ]
  },
  {
   "cell_type": "markdown",
   "metadata": {
    "slideshow": {
     "slide_type": "slide"
    }
   },
   "source": [
    "# Pair Programming Exercises!\n",
    "\n",
    "- Define a function `which_is_smaller()` that takes two numbers as arguments and returns the smallest of them. **I will demo this one*\n",
    "- Write a function that takes a lowercase character (i.e. a string of length 1) and returns `True` if it is a vowel, `False` otherwise.\n",
    "- Write a function that takes a list of words. It should count the lengths of each of the words in the argument, and return a list of integers of the lengths of the corresponding input words.\n",
    "- Write a function capable of generating all the verses of the song “99 Bottles of Beer on the Wall”."
   ]
  }
 ],
 "metadata": {
  "kernelspec": {
   "display_name": "Python 3",
   "language": "python",
   "name": "python3"
  },
  "language_info": {
   "codemirror_mode": {
    "name": "ipython",
    "version": 3
   },
   "file_extension": ".py",
   "mimetype": "text/x-python",
   "name": "python",
   "nbconvert_exporter": "python",
   "pygments_lexer": "ipython3",
   "version": "3.7.0"
  }
 },
 "nbformat": 4,
 "nbformat_minor": 4
}
