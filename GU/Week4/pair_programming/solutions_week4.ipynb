{
 "cells": [
  {
   "cell_type": "markdown",
   "metadata": {},
   "source": [
    "# Pair Programming"
   ]
  },
  {
   "cell_type": "markdown",
   "metadata": {},
   "source": [
    "## Friday\n",
    "1. Merge the df_customer and df_info DataFrames by id with an right join and assign the resulting DataFrame to the variable name `combined`\n",
    "2. Aggregrate the `combined` DataFrame.  Groupby the `sex` column and aggregate `age` and `weight` by mean then sort by weight"
   ]
  },
  {
   "cell_type": "code",
   "execution_count": null,
   "metadata": {},
   "outputs": [],
   "source": [
    "import pandas as pd\n",
    "df_customer = pd.DataFrame({\n",
    "    'id': [1, 2, 3, 4],\n",
    "    'name': ['Tom', 'Jenny', 'James', 'Dan'],\n",
    "})\n",
    "\n",
    "df_info = pd.DataFrame({\n",
    "    'id': [2, 3, 4, 5],\n",
    "    'age': [31, 20, 40, 70],\n",
    "    'sex': ['F', 'M', 'M', 'F'],\n",
    "    'weight': [125, 185, 220, 130]\n",
    "})"
   ]
  },
  {
   "cell_type": "code",
   "execution_count": null,
   "metadata": {},
   "outputs": [],
   "source": [
    "\n",
    "combined = df_customer.merge(df_info, how='right', on='id')\n",
    "combined"
   ]
  },
  {
   "cell_type": "code",
   "execution_count": null,
   "metadata": {},
   "outputs": [],
   "source": [
    "# Solution 1\n",
    "combined[['sex', 'age', 'weight']].groupby('sex').mean().sort_values('weight')"
   ]
  },
  {
   "cell_type": "code",
   "execution_count": null,
   "metadata": {},
   "outputs": [],
   "source": [
    "# Solution 2\n",
    "combined.groupby('sex').mean().sort_values('weight')"
   ]
  },
  {
   "cell_type": "markdown",
   "metadata": {},
   "source": [
    "## Saturday"
   ]
  },
  {
   "cell_type": "markdown",
   "metadata": {},
   "source": [
    "### Problem 1\n",
    "1. Using `date_demo.csv` perform the following tasks\n",
    "* What is the shape of the data in the CSV file?\n",
    "* What is the min and max dates in the `birth_date` column?\n",
    "* How many people were born between 7/1/2019 & 7/1/2020? ie filter birth_date column by given dates then report number of rows"
   ]
  },
  {
   "cell_type": "code",
   "execution_count": 13,
   "metadata": {},
   "outputs": [
    {
     "name": "stdout",
     "output_type": "stream",
     "text": [
      "The shape is : (300, 3)\n",
      "The earliest birthday is:  2018-08-03 00:00:00\n",
      "The latest birthday is:  2020-07-22 00:00:00\n",
      "The number of people born between these dates are:  160\n"
     ]
    }
   ],
   "source": [
    "data = pd.read_csv('date_demo.csv', parse_dates=['birth_date'])\n",
    "print(\"The shape is :\", data.shape)\n",
    "print(\"The earliest birthday is: \", data.birth_date.min())\n",
    "print(\"The latest birthday is: \", data.birth_date.max())\n",
    "born = data[(data.birth_date >= '7/1/2019') & (data.birth_date <= '7/1/2020')]\n",
    "print(\"The number of people born between these dates are: \", born.shape[0])"
   ]
  },
  {
   "cell_type": "markdown",
   "metadata": {},
   "source": [
    "### Problem 2\n",
    "2. Using `daily-min-temperatures.csv` which represents daily minimum temperature checks perform the following tasks\n",
    "* Convert `Date` column to datetime dtype\n",
    "* Create a new DataFrame that only contains data from 1982\n",
    "* Set index of new DataFrame to `Date` column\n",
    "* Group DataFrame by Weekly frequency then aggregate the `Temp` column by the aggregating function `mean`"
   ]
  },
  {
   "cell_type": "code",
   "execution_count": 14,
   "metadata": {},
   "outputs": [
    {
     "data": {
      "text/plain": [
       "Date\n",
       "1982-01-03    15.166667\n",
       "1982-01-10    14.514286\n",
       "1982-01-17    17.728571\n",
       "1982-01-24    19.357143\n",
       "1982-01-31    15.271429\n",
       "1982-02-07    14.857143\n",
       "1982-02-14    18.257143\n",
       "1982-02-21    17.171429\n",
       "1982-02-28    13.400000\n",
       "1982-03-07    15.271429\n",
       "1982-03-14    13.342857\n",
       "1982-03-21    16.085714\n",
       "1982-03-28    15.914286\n",
       "1982-04-04    12.071429\n",
       "1982-04-11    12.071429\n",
       "1982-04-18    13.600000\n",
       "1982-04-25    10.757143\n",
       "1982-05-02     8.157143\n",
       "1982-05-09    10.371429\n",
       "1982-05-16     7.957143\n",
       "1982-05-23     9.328571\n",
       "1982-05-30    11.814286\n",
       "1982-06-06     4.328571\n",
       "1982-06-13     5.357143\n",
       "1982-06-20     7.285714\n",
       "1982-06-27     4.628571\n",
       "1982-07-04     5.114286\n",
       "1982-07-11     4.742857\n",
       "1982-07-18     5.257143\n",
       "1982-07-25     3.814286\n",
       "1982-08-01     6.442857\n",
       "1982-08-08     4.928571\n",
       "1982-08-15     8.614286\n",
       "1982-08-22     8.214286\n",
       "1982-08-29     8.957143\n",
       "1982-09-05     7.757143\n",
       "1982-09-12     7.228571\n",
       "1982-09-19     8.100000\n",
       "1982-09-26     6.785714\n",
       "1982-10-03     8.214286\n",
       "1982-10-10     9.142857\n",
       "1982-10-17     9.371429\n",
       "1982-10-24     8.685714\n",
       "1982-10-31    11.085714\n",
       "1982-11-07    12.400000\n",
       "1982-11-14    11.585714\n",
       "1982-11-21    12.042857\n",
       "1982-11-28    13.228571\n",
       "1982-12-05    12.714286\n",
       "1982-12-12    12.371429\n",
       "1982-12-19    14.985714\n",
       "1982-12-26    13.471429\n",
       "1983-01-02    16.280000\n",
       "Freq: W-SUN, Name: Temp, dtype: float64"
      ]
     },
     "execution_count": 14,
     "metadata": {},
     "output_type": "execute_result"
    }
   ],
   "source": [
    "data = pd.read_csv('daily-min-temperatures.csv', parse_dates=['Date'])\n",
    "new_data = data[(data['Date'] >= '1/1/1982') & (data['Date'] <= '12/31/1982')]\n",
    "new_data.set_index('Date').groupby(pd.Grouper(freq='W'))['Temp'].agg('mean')"
   ]
  }
 ],
 "metadata": {
  "kernelspec": {
   "display_name": "Python 3",
   "language": "python",
   "name": "python3"
  },
  "language_info": {
   "codemirror_mode": {
    "name": "ipython",
    "version": 3
   },
   "file_extension": ".py",
   "mimetype": "text/x-python",
   "name": "python",
   "nbconvert_exporter": "python",
   "pygments_lexer": "ipython3",
   "version": "3.8.0"
  }
 },
 "nbformat": 4,
 "nbformat_minor": 4
}
