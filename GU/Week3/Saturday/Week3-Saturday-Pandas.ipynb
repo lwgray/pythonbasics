{
 "cells": [
  {
   "cell_type": "markdown",
   "metadata": {},
   "source": [
    "<img src=\"pandas_white.svg\" alt=\"pandas\" width=\"500\"/>"
   ]
  },
  {
   "cell_type": "markdown",
   "metadata": {},
   "source": [
    "# DataFrame subsetting\n",
    "This is the process of grabbing data from your DataFrame, extracting either by columns or rows."
   ]
  },
  {
   "cell_type": "markdown",
   "metadata": {},
   "source": [
    "## Selecting columns\n",
    "To select columns in a DataFrame, use square-brackets the with name of column within them `df['column_name']`.  "
   ]
  },
  {
   "cell_type": "code",
   "execution_count": null,
   "metadata": {},
   "outputs": [],
   "source": [
    "import pandas as pd\n",
    "import random\n",
    "import numpy as np"
   ]
  },
  {
   "cell_type": "code",
   "execution_count": null,
   "metadata": {},
   "outputs": [],
   "source": [
    "df = pd.read_csv('name_apples_bookid.csv')\n",
    "df"
   ]
  },
  {
   "cell_type": "markdown",
   "metadata": {},
   "source": [
    "### Select a single column\n",
    "Question:  What dtype is the data within the name column? object, float, int, category????"
   ]
  },
  {
   "cell_type": "code",
   "execution_count": null,
   "metadata": {},
   "outputs": [],
   "source": [
    "df['name']"
   ]
  },
  {
   "cell_type": "code",
   "execution_count": null,
   "metadata": {},
   "outputs": [],
   "source": [
    "df.name"
   ]
  },
  {
   "cell_type": "markdown",
   "metadata": {},
   "source": [
    "Question: What is the data type is the name column?"
   ]
  },
  {
   "cell_type": "code",
   "execution_count": null,
   "metadata": {},
   "outputs": [],
   "source": [
    "type(df['name'])"
   ]
  },
  {
   "cell_type": "markdown",
   "metadata": {},
   "source": [
    "### Selecting multiple columns"
   ]
  },
  {
   "cell_type": "code",
   "execution_count": null,
   "metadata": {},
   "outputs": [],
   "source": [
    "df[['name', 'apples']]"
   ]
  },
  {
   "cell_type": "markdown",
   "metadata": {},
   "source": [
    "## Filtering rows\n",
    "We can subset our DataFrame by filter rows based on certain conditions.  We evaluate conditional expressions and rows that meet those conditions will be returned.  The conditional expression returns a series of boolean values.  If the boolean values are placed within square brackets of a DataFrame then only the True values will be returned."
   ]
  },
  {
   "cell_type": "markdown",
   "metadata": {},
   "source": [
    "### Filtering with a single conditional expression"
   ]
  },
  {
   "cell_type": "code",
   "execution_count": null,
   "metadata": {},
   "outputs": [],
   "source": [
    "# Conditional expression that returns True/False\n",
    "# for every value in apple column that is greater than\n",
    "# or equal to 16\n",
    "(df['apples'] >= 16)"
   ]
  },
  {
   "cell_type": "code",
   "execution_count": null,
   "metadata": {},
   "outputs": [],
   "source": [
    "df.apples >= 16"
   ]
  },
  {
   "cell_type": "code",
   "execution_count": null,
   "metadata": {},
   "outputs": [],
   "source": [
    "# If we place the conditional expression\n",
    "# within a DataFrame square bracket then it will return\n",
    "# all rows in which the conditional expression is True\n",
    "df[(df['apples'] >= 16)]\n",
    "df[(df.apples >= 16)]"
   ]
  },
  {
   "cell_type": "markdown",
   "metadata": {},
   "source": [
    "### Filtering with multiple conditional expressions\n",
    "When filtering with multiple conditions, the conditional expressions must be encapsulated in parentheses.  Additional, the conditions must be joined by either an ampersand `&` which represents \"and\" or a pipe `|` which represents \"or\""
   ]
  },
  {
   "cell_type": "code",
   "execution_count": null,
   "metadata": {},
   "outputs": [],
   "source": [
    "df[(df['apples'] >=16) & (df['name'] == 'Molly')]"
   ]
  },
  {
   "cell_type": "code",
   "execution_count": null,
   "metadata": {},
   "outputs": [],
   "source": [
    "df[(df['apples'] >=16) | (df['name'] == 'Larry')]"
   ]
  },
  {
   "cell_type": "code",
   "execution_count": null,
   "metadata": {},
   "outputs": [],
   "source": [
    "older = (df['apples'] >=16)\n",
    "older_books = df[older]['book_id']\n",
    "older_books"
   ]
  },
  {
   "cell_type": "markdown",
   "metadata": {},
   "source": [
    "## Select rows by position - df.iloc and df.loc\n",
    "Rows can also be extracted by index based or label based selection.\n",
    "DataFrames have two methods for this purpose.  The first is `iloc` in which the \"i\" states for integer.  `iloc` uses the index number of each row or column to extract them.  While `loc` uses the row or column label to extract them"
   ]
  },
  {
   "cell_type": "code",
   "execution_count": null,
   "metadata": {},
   "outputs": [],
   "source": [
    "# Change the index of of DataFrame to strings so that we can \n",
    "# more easily demonstrate label based indexing\n",
    "df.index = ['teacher', 'author', 'student', 'TA']"
   ]
  },
  {
   "cell_type": "markdown",
   "metadata": {},
   "source": [
    "### iloc on a single row"
   ]
  },
  {
   "cell_type": "code",
   "execution_count": null,
   "metadata": {},
   "outputs": [],
   "source": [
    "df.iloc[0]"
   ]
  },
  {
   "cell_type": "markdown",
   "metadata": {},
   "source": [
    "### use row and column with iloc\n",
    "To accomplish this, the first value represents the row index and the second value represents the column index."
   ]
  },
  {
   "cell_type": "code",
   "execution_count": null,
   "metadata": {},
   "outputs": [],
   "source": [
    "# select index 0 and column 0\n",
    "df.iloc[0,0]"
   ]
  },
  {
   "cell_type": "markdown",
   "metadata": {},
   "source": [
    "### iloc a range of rows"
   ]
  },
  {
   "cell_type": "code",
   "execution_count": null,
   "metadata": {},
   "outputs": [],
   "source": [
    "df.iloc[0:2]"
   ]
  },
  {
   "cell_type": "markdown",
   "metadata": {},
   "source": [
    "### iloc a range of rows and columns"
   ]
  },
  {
   "cell_type": "code",
   "execution_count": null,
   "metadata": {},
   "outputs": [],
   "source": [
    "df.iloc[0:2, 0:2]"
   ]
  },
  {
   "cell_type": "markdown",
   "metadata": {},
   "source": [
    "### loc on a single row"
   ]
  },
  {
   "cell_type": "code",
   "execution_count": null,
   "metadata": {},
   "outputs": [],
   "source": [
    "df.loc['teacher']"
   ]
  },
  {
   "cell_type": "markdown",
   "metadata": {},
   "source": [
    "### Use row label and column label with loc"
   ]
  },
  {
   "cell_type": "code",
   "execution_count": null,
   "metadata": {},
   "outputs": [],
   "source": [
    "df.loc['student', 'name']"
   ]
  },
  {
   "cell_type": "markdown",
   "metadata": {},
   "source": [
    "### Extract a range of rows with loc"
   ]
  },
  {
   "cell_type": "code",
   "execution_count": null,
   "metadata": {},
   "outputs": [],
   "source": [
    "df.loc['teacher':'TA']"
   ]
  },
  {
   "cell_type": "markdown",
   "metadata": {},
   "source": [
    "### Extract a range of rows and columns with loc"
   ]
  },
  {
   "cell_type": "code",
   "execution_count": null,
   "metadata": {},
   "outputs": [],
   "source": [
    "df.loc['teacher':'TA', 'apples':'book_id']"
   ]
  },
  {
   "cell_type": "markdown",
   "metadata": {},
   "source": [
    "## Add and remove rows and columns\n",
    "In order to permanently remove a column or row from a DataFrame you will need assign the transformed DataFrame to another variable or use the `inplace=True` parameter."
   ]
  },
  {
   "cell_type": "markdown",
   "metadata": {},
   "source": [
    "### Add a column"
   ]
  },
  {
   "cell_type": "code",
   "execution_count": null,
   "metadata": {},
   "outputs": [],
   "source": [
    "df['money'] = [45000, 30000, 15000, np.nan]"
   ]
  },
  {
   "cell_type": "markdown",
   "metadata": {},
   "source": [
    "### Add a row"
   ]
  },
  {
   "cell_type": "code",
   "execution_count": null,
   "metadata": {},
   "outputs": [],
   "source": [
    "df.loc['Dean'] = ['Betty', 18, 101, 90000]\n",
    "df = df.append({'name':'Charles', 'apples':19,\n",
    "           'book_id':101, 'money': 120000}, ignore_index=True)"
   ]
  },
  {
   "cell_type": "markdown",
   "metadata": {},
   "source": [
    "### Add an additional column for years of experience"
   ]
  },
  {
   "cell_type": "code",
   "execution_count": null,
   "metadata": {},
   "outputs": [],
   "source": [
    "experience = []\n",
    "for _ in range(0, df.shape[0]): # Read about range here: https://docs.python.org/3/library/functions.html#func-range  \n",
    "    years = random.randint(1,15) # Read about randint here: https://docs.python.org/3/library/random.html#random.randint\n",
    "    experience.append(years)\n",
    "    \n",
    "df['experience'] = experience"
   ]
  },
  {
   "cell_type": "code",
   "execution_count": null,
   "metadata": {},
   "outputs": [],
   "source": [
    "df.to_csv('salary.csv', index=False)"
   ]
  },
  {
   "cell_type": "markdown",
   "metadata": {},
   "source": [
    "### Remove a row"
   ]
  },
  {
   "cell_type": "code",
   "execution_count": null,
   "metadata": {},
   "outputs": [],
   "source": [
    "df_no_matt = df.drop(1, axis=0) # inplace=True\n",
    "df_no_matt"
   ]
  },
  {
   "cell_type": "markdown",
   "metadata": {},
   "source": [
    "### Remove a column"
   ]
  },
  {
   "cell_type": "code",
   "execution_count": null,
   "metadata": {},
   "outputs": [],
   "source": [
    "df_no_apples = df.drop('apples', axis=1) # inplace=True\n",
    "df_no_apples"
   ]
  },
  {
   "cell_type": "markdown",
   "metadata": {},
   "source": [
    "# DataFrame Attributes\n",
    "Like methods, attributes are specific to a data type.  The attributes are accessed with the dot notation you use for methods but no parentheses are used.  Attribute simply return information stored by the object.  We will discuss just five of the many attributes of a DataFrame.  We discussed 2 previously, `shape` and `dtype(s)` The others are:\n",
    "* columns\n",
    "* index\n",
    "* values"
   ]
  },
  {
   "cell_type": "markdown",
   "metadata": {},
   "source": [
    "## viewing and setting columns\n",
    "In bigger datasets it is hard to visualize all the columns within a DataFrame.  You can access the column name with the column attribute of the DataFrame. "
   ]
  },
  {
   "cell_type": "markdown",
   "metadata": {},
   "source": [
    "### View columns"
   ]
  },
  {
   "cell_type": "code",
   "execution_count": null,
   "metadata": {},
   "outputs": [],
   "source": [
    "df.columns"
   ]
  },
  {
   "cell_type": "markdown",
   "metadata": {},
   "source": [
    "### set columns"
   ]
  },
  {
   "cell_type": "code",
   "execution_count": null,
   "metadata": {},
   "outputs": [],
   "source": [
    "df.columns = [1,2,3,4,5]"
   ]
  },
  {
   "cell_type": "markdown",
   "metadata": {},
   "source": [
    "## viewing and setting columns"
   ]
  },
  {
   "cell_type": "markdown",
   "metadata": {},
   "source": [
    "### View index"
   ]
  },
  {
   "cell_type": "code",
   "execution_count": null,
   "metadata": {},
   "outputs": [],
   "source": [
    "df.index"
   ]
  },
  {
   "cell_type": "markdown",
   "metadata": {},
   "source": [
    "### Set index"
   ]
  },
  {
   "cell_type": "code",
   "execution_count": null,
   "metadata": {},
   "outputs": [],
   "source": [
    "df.index = [1,3,5,7,9,10]"
   ]
  },
  {
   "cell_type": "code",
   "execution_count": null,
   "metadata": {},
   "outputs": [],
   "source": [
    "df"
   ]
  },
  {
   "cell_type": "code",
   "execution_count": null,
   "metadata": {},
   "outputs": [],
   "source": [
    "df.set_index(1)"
   ]
  },
  {
   "cell_type": "markdown",
   "metadata": {},
   "source": [
    "### Display DataFrame and Series values"
   ]
  },
  {
   "cell_type": "markdown",
   "metadata": {},
   "source": [
    "#### DataFrame"
   ]
  },
  {
   "cell_type": "code",
   "execution_count": null,
   "metadata": {},
   "outputs": [],
   "source": [
    "df.values"
   ]
  },
  {
   "cell_type": "markdown",
   "metadata": {},
   "source": [
    "#### Series"
   ]
  },
  {
   "cell_type": "code",
   "execution_count": null,
   "metadata": {},
   "outputs": [],
   "source": [
    "df[1].values"
   ]
  },
  {
   "cell_type": "markdown",
   "metadata": {},
   "source": [
    "# Pair Programming\n",
    "The above code, created a csv file named \"salary.csv\".  It represents the yearly salary for different positions at Virtual University, books (by id) they have read, and the number of years of experience they have.\n",
    "\n",
    "1. Import the salary data into a pandas DataFrame\n",
    "2. There is one book that has been read by several people.  Extract all rows with that book.\n",
    "3. Add a new row and column to the DataFrame( Just make up any data that you like)\n",
    "4. Filter the data set for people with less than 5 years experience but make more than \\\\$30,000 (None is a valid answer)\n",
    "5. Change index to 1,3,5,7,9,10,12 and filter and return the row with index 9"
   ]
  },
  {
   "cell_type": "markdown",
   "metadata": {},
   "source": [
    "# DataFrame methods\n",
    "Similarily to other data types DataFrames have methods attached to them also.  These methods can modify or describe the entire content of the DataFrame\n",
    "* sample() - return a random sample of data\n",
    "* nunique() - return the number of unique elements in each column\n",
    "* isna() - determine if value within the DataFrame is `nan`\n",
    "* dropna() - Remove row or column that contains `nan` value\n",
    "* duplicated() - returns boolean series with True if value is duplicated\n",
    "* drop_duplicates() - remove rows with duplicate values\n",
    "* apply() - apply a function to values within the DataFrame"
   ]
  },
  {
   "cell_type": "code",
   "execution_count": null,
   "metadata": {},
   "outputs": [],
   "source": [
    "## sample()\n",
    "df.sample(3)"
   ]
  },
  {
   "cell_type": "code",
   "execution_count": null,
   "metadata": {},
   "outputs": [],
   "source": [
    "# To determine the number of unique values in each column\n",
    "df.nunique()"
   ]
  },
  {
   "cell_type": "code",
   "execution_count": null,
   "metadata": {},
   "outputs": [],
   "source": [
    "# Determine which values are not a number(nan)\n",
    "df.isna()"
   ]
  },
  {
   "cell_type": "code",
   "execution_count": null,
   "metadata": {},
   "outputs": [],
   "source": [
    "# remove row or column with `nan` value\n",
    "df.dropna(axis='index')"
   ]
  },
  {
   "cell_type": "code",
   "execution_count": null,
   "metadata": {},
   "outputs": [],
   "source": [
    "df.duplicated(3)"
   ]
  },
  {
   "cell_type": "code",
   "execution_count": null,
   "metadata": {},
   "outputs": [],
   "source": [
    "# remove duplicate rows\n",
    "df.drop_duplicates(3, keep='first')"
   ]
  },
  {
   "cell_type": "code",
   "execution_count": null,
   "metadata": {},
   "outputs": [],
   "source": [
    "# Use apply() to apply a function to all the values within a DataFrame\n",
    "numbers = pd.DataFrame({'A': [1,2,3], 'B': [10,20,30] })\n",
    "\n",
    "def plus_10(x):\n",
    "    return x+10"
   ]
  },
  {
   "cell_type": "code",
   "execution_count": null,
   "metadata": {},
   "outputs": [],
   "source": [
    "numbers"
   ]
  },
  {
   "cell_type": "code",
   "execution_count": null,
   "metadata": {},
   "outputs": [],
   "source": [
    "numbers.apply(plus_10)"
   ]
  },
  {
   "cell_type": "markdown",
   "metadata": {},
   "source": [
    "# Summarize DataFrame\n",
    "Examine the descriptive stats with the `describe` method.  \n",
    "It provides column count, mean, min, max, and stand deviation.  \n",
    "It also include the 25,50, and 75 percentiles."
   ]
  },
  {
   "cell_type": "code",
   "execution_count": null,
   "metadata": {},
   "outputs": [],
   "source": [
    "df"
   ]
  },
  {
   "cell_type": "code",
   "execution_count": null,
   "metadata": {},
   "outputs": [],
   "source": [
    "df.describe()"
   ]
  },
  {
   "cell_type": "markdown",
   "metadata": {},
   "source": [
    "# DataFrame manipulation\n",
    "There are DataFrame methods that allow you to manipulate its structure.\n",
    "* df.sort_index() - sort the index or columns in alphabetical/numerical order\n",
    "* df.reset_index() - change the index back to a Zero beginning then add previous index to be a new column\n",
    "* df.sort_values() - short all data based on a specific column\n",
    "* df.rename()"
   ]
  },
  {
   "cell_type": "code",
   "execution_count": null,
   "metadata": {},
   "outputs": [],
   "source": [
    "df.columns = ['name', 'apples', 'book_id', 'money', 'experience']"
   ]
  },
  {
   "cell_type": "code",
   "execution_count": null,
   "metadata": {},
   "outputs": [],
   "source": [
    "df = df.set_index('name')"
   ]
  },
  {
   "cell_type": "code",
   "execution_count": null,
   "metadata": {},
   "outputs": [],
   "source": [
    "df"
   ]
  },
  {
   "cell_type": "markdown",
   "metadata": {},
   "source": [
    "## df.sort_index()\n",
    "Sort labels across axis 0 or axis 1"
   ]
  },
  {
   "cell_type": "code",
   "execution_count": null,
   "metadata": {},
   "outputs": [],
   "source": [
    "df.sort_index(axis=0)"
   ]
  },
  {
   "cell_type": "code",
   "execution_count": null,
   "metadata": {},
   "outputs": [],
   "source": [
    "df.sort_index(axis=1)"
   ]
  },
  {
   "cell_type": "markdown",
   "metadata": {},
   "source": [
    "## df.reset_index()\n",
    "Reset the indexing so that the first row is index 0.  It also places the current index as a column unless you specify a parameter of `drop = True`"
   ]
  },
  {
   "cell_type": "code",
   "execution_count": null,
   "metadata": {},
   "outputs": [],
   "source": [
    "df = df.reset_index() # use drop=True to remove the name column"
   ]
  },
  {
   "cell_type": "code",
   "execution_count": null,
   "metadata": {},
   "outputs": [],
   "source": [
    "df"
   ]
  },
  {
   "cell_type": "markdown",
   "metadata": {},
   "source": [
    "## df.sort_values('name')"
   ]
  },
  {
   "cell_type": "code",
   "execution_count": null,
   "metadata": {},
   "outputs": [],
   "source": [
    "df.sort_values('money')"
   ]
  },
  {
   "cell_type": "markdown",
   "metadata": {},
   "source": [
    "## df.rename()\n",
    "Change the index or column label name"
   ]
  },
  {
   "cell_type": "code",
   "execution_count": null,
   "metadata": {},
   "outputs": [],
   "source": [
    "df.rename({'name':'first_name', 'apples':'fruit', 'book_id':'isbn', 'money':'income'}, axis='columns')"
   ]
  },
  {
   "cell_type": "code",
   "execution_count": null,
   "metadata": {},
   "outputs": [],
   "source": [
    "df.rename({0:6, 3:8}, axis='index')"
   ]
  },
  {
   "cell_type": "code",
   "execution_count": null,
   "metadata": {},
   "outputs": [],
   "source": [
    "df.rename(str.upper, axis='columns')"
   ]
  },
  {
   "cell_type": "markdown",
   "metadata": {},
   "source": [
    "# Reshape DataFrame\n",
    "DataFrames can be restructured\n",
    "* pd.melt() - transform wide data into long formatted data....gather columns into rows\n",
    "* pd.concat() - append rows or columns of DataFrames"
   ]
  },
  {
   "cell_type": "markdown",
   "metadata": {},
   "source": [
    "## pd.melt()"
   ]
  },
  {
   "cell_type": "code",
   "execution_count": null,
   "metadata": {
    "tags": []
   },
   "outputs": [],
   "source": [
    "df.melt()"
   ]
  },
  {
   "cell_type": "code",
   "execution_count": null,
   "metadata": {
    "tags": []
   },
   "outputs": [],
   "source": [
    "# You can use as many columns as you want for id_vars and value_vars\n",
    "melted = df.melt(id_vars=['name', 'book_id'], value_vars=['apples', 'money', 'experience'])\n",
    "melted"
   ]
  },
  {
   "cell_type": "markdown",
   "metadata": {},
   "source": [
    "## pd.concat()\n",
    "Pandas provides the ability to easily combine DataFrames."
   ]
  },
  {
   "cell_type": "code",
   "execution_count": null,
   "metadata": {},
   "outputs": [],
   "source": [
    "df1 = pd.DataFrame({\n",
    "    'name': ['Paul', 'Ryan', 'Ashley', 'Donald'],\n",
    "    'math': [60,89,82,70],\n",
    "    'physics': [66,95,83,66],\n",
    "    'chemistry': [61,91,77,70]\n",
    "})\n",
    "df2 = pd.DataFrame({\n",
    "    'name': ['Eddie', 'Frank', 'Greg', 'Hans'],\n",
    "    'math': [66,95,83,66],\n",
    "    'physics': [60,89,82,70],\n",
    "    'chemistry': [90,81,78,90]\n",
    "})"
   ]
  },
  {
   "cell_type": "code",
   "execution_count": null,
   "metadata": {},
   "outputs": [],
   "source": [
    "pd.concat([df1, df2])"
   ]
  },
  {
   "cell_type": "code",
   "execution_count": null,
   "metadata": {},
   "outputs": [],
   "source": [
    "pd.concat([df1,df2], axis=1)"
   ]
  },
  {
   "cell_type": "code",
   "execution_count": null,
   "metadata": {},
   "outputs": [],
   "source": [
    "# Add a hierarchical index with keys and names\n",
    "res = pd.concat([df1, df2], keys=['Year 1', 'Year 2'], names=['Class', None])\n",
    "res"
   ]
  },
  {
   "cell_type": "markdown",
   "metadata": {},
   "source": [
    "# Series methods and attributes\n",
    "There are also methods attached to Series.  We will cover some the most used.\n",
    "* value_counts() [docs](https://pandas.pydata.org/docs/reference/api/pandas.Series.value_counts.html)\n",
    "* astype() [docs](https://pandas.pydata.org/docs/reference/api/pandas.Series.astype.html)\n",
    "* size() [docs](https://pandas.pydata.org/docs/reference/api/pandas.Series.size.html?highlight=size#pandas.Series.size)\n",
    "* count() [docs](https://pandas.pydata.org/docs/reference/api/pandas.Series.count.html?highlight=count#pandas.Series.count)\n",
    "* min() [docs](https://pandas.pydata.org/docs/reference/api/pandas.Series.min.html?highlight=min#pandas.Series.min0)\n",
    "* max() [docs](https://pandas.pydata.org/docs/reference/api/pandas.Series.max.html?highlight=max#pandas.Series.max)\n",
    "* mean() [docs](https://pandas.pydata.org/docs/reference/api/pandas.Series.mean.html)\n",
    "* median() [docs](https://pandas.pydata.org/docs/reference/api/pandas.Series.median.html)\n",
    "* std() [docss](https://pandas.pydata.org/docs/reference/api/pandas.Series.std.html)\n",
    "* isna() [docs](https://pandas.pydata.org/docs/reference/api/pandas.isna.html)\n",
    "* fillna() [docs](https://pandas.pydata.org/docs/reference/api/pandas.Series.fillna.html)\n",
    "* describe() [docs](https://pandas.pydata.org/docs/reference/api/pandas.Series.describe.html)\n",
    "* quantile() [docs](https://pandas.pydata.org/docs/reference/api/pandas.Series.quantile.html)\n",
    "* unique() [docs](https://pandas.pydata.org/docs/reference/api/pandas.Series.unique.htm)\n",
    "* sample() [docs](https://pandas.pydata.org/docs/reference/api/pandas.Series.sample.html)\n",
    "* cumsum() [docs](https://pandas.pydata.org/docs/reference/api/pandas.Series.cumsum.html)\n",
    "* replace() [docs](https://pandas.pydata.org/docs/reference/api/pandas.Series.replace.html)"
   ]
  },
  {
   "cell_type": "markdown",
   "metadata": {},
   "source": [
    "## Value counts\n",
    "Counts the number of times a value appears in a column"
   ]
  },
  {
   "cell_type": "code",
   "execution_count": null,
   "metadata": {},
   "outputs": [],
   "source": [
    "df['book_id'].value_counts()"
   ]
  },
  {
   "cell_type": "code",
   "execution_count": null,
   "metadata": {},
   "outputs": [],
   "source": [
    "# Get percentage of Total\n",
    "df['book_id'].value_counts(normalize=True)"
   ]
  },
  {
   "cell_type": "code",
   "execution_count": null,
   "metadata": {},
   "outputs": [],
   "source": [
    "# it doesn't count missing values\n",
    "df['money'].value_counts()"
   ]
  },
  {
   "cell_type": "markdown",
   "metadata": {},
   "source": [
    "## astype"
   ]
  },
  {
   "cell_type": "code",
   "execution_count": null,
   "metadata": {},
   "outputs": [],
   "source": [
    "salary = pd.read_csv('salary.csv')\n",
    "salary['education'] = ['PHD', 'MS', 'BA', 'BA', 'MS', 'PHD']\n",
    "salary['age'] = [34, 26, 22, 23, 28, 41]\n",
    "salary['weight_lb'] = [179, 98, 139, 99, 220, 191]"
   ]
  },
  {
   "cell_type": "code",
   "execution_count": null,
   "metadata": {},
   "outputs": [],
   "source": [
    "salary.dtypes"
   ]
  },
  {
   "cell_type": "code",
   "execution_count": null,
   "metadata": {},
   "outputs": [],
   "source": [
    "salary['education'] = salary['education'].astype('category')"
   ]
  },
  {
   "cell_type": "code",
   "execution_count": null,
   "metadata": {},
   "outputs": [],
   "source": [
    "salary.dtypes"
   ]
  },
  {
   "cell_type": "markdown",
   "metadata": {},
   "source": [
    "## Size\n",
    "The number of values in the column including `nan`"
   ]
  },
  {
   "cell_type": "code",
   "execution_count": null,
   "metadata": {},
   "outputs": [],
   "source": [
    "salary.name.size"
   ]
  },
  {
   "cell_type": "markdown",
   "metadata": {},
   "source": [
    "## Count\n",
    "The number of values in the column excluding `nan`"
   ]
  },
  {
   "cell_type": "code",
   "execution_count": null,
   "metadata": {},
   "outputs": [],
   "source": [
    "salary.money.count()"
   ]
  },
  {
   "cell_type": "markdown",
   "metadata": {},
   "source": [
    "## Min,max,mean, median, std"
   ]
  },
  {
   "cell_type": "code",
   "execution_count": null,
   "metadata": {},
   "outputs": [],
   "source": [
    "salary.money.min()"
   ]
  },
  {
   "cell_type": "code",
   "execution_count": null,
   "metadata": {},
   "outputs": [],
   "source": [
    "salary.money.max()"
   ]
  },
  {
   "cell_type": "code",
   "execution_count": null,
   "metadata": {},
   "outputs": [],
   "source": [
    "salary.experience.mean()"
   ]
  },
  {
   "cell_type": "code",
   "execution_count": null,
   "metadata": {},
   "outputs": [],
   "source": [
    "salary"
   ]
  },
  {
   "cell_type": "code",
   "execution_count": null,
   "metadata": {},
   "outputs": [],
   "source": [
    "young = (salary.apples <= 16)\n",
    "salary[young]['money'].mean()"
   ]
  },
  {
   "cell_type": "code",
   "execution_count": null,
   "metadata": {},
   "outputs": [],
   "source": [
    "salary.experience.median()"
   ]
  },
  {
   "cell_type": "code",
   "execution_count": null,
   "metadata": {},
   "outputs": [],
   "source": [
    "salary.money.std()"
   ]
  },
  {
   "cell_type": "markdown",
   "metadata": {},
   "source": [
    "## isna(), fillna(), dropna()\n",
    "The ability to detect and manage missing values is critical in data analysis"
   ]
  },
  {
   "cell_type": "code",
   "execution_count": null,
   "metadata": {},
   "outputs": [],
   "source": [
    "salary['money'].isna()"
   ]
  },
  {
   "cell_type": "code",
   "execution_count": null,
   "metadata": {},
   "outputs": [],
   "source": [
    "salary[salary['money'].isna()]"
   ]
  },
  {
   "cell_type": "code",
   "execution_count": null,
   "metadata": {},
   "outputs": [],
   "source": [
    "salary['money'].fillna(salary['money'].mean())"
   ]
  },
  {
   "cell_type": "code",
   "execution_count": null,
   "metadata": {},
   "outputs": [],
   "source": [
    "salary"
   ]
  },
  {
   "cell_type": "markdown",
   "metadata": {},
   "source": [
    "## describe()"
   ]
  },
  {
   "cell_type": "code",
   "execution_count": null,
   "metadata": {},
   "outputs": [],
   "source": [
    "salary.experience.describe()"
   ]
  },
  {
   "cell_type": "markdown",
   "metadata": {},
   "source": [
    "## quantile()"
   ]
  },
  {
   "cell_type": "code",
   "execution_count": null,
   "metadata": {},
   "outputs": [],
   "source": [
    "salary.money.quantile()"
   ]
  },
  {
   "cell_type": "markdown",
   "metadata": {},
   "source": [
    "## unique()"
   ]
  },
  {
   "cell_type": "code",
   "execution_count": null,
   "metadata": {},
   "outputs": [],
   "source": [
    "salary.book_id.unique()"
   ]
  },
  {
   "cell_type": "markdown",
   "metadata": {},
   "source": [
    "## sum() and cumsum()"
   ]
  },
  {
   "cell_type": "code",
   "execution_count": null,
   "metadata": {},
   "outputs": [],
   "source": [
    "sales = pd.read_excel('https://github.com/datagy/pivot_table_pandas/raw/master/sample_pivot.xlsx',\n",
    "                      engine='openpyxl', parse_dates=['Date'])\n",
    "print(sales.shape)\n",
    "sales.head()"
   ]
  },
  {
   "cell_type": "code",
   "execution_count": null,
   "metadata": {},
   "outputs": [],
   "source": [
    "sales.Units.sum()"
   ]
  },
  {
   "cell_type": "code",
   "execution_count": null,
   "metadata": {},
   "outputs": [],
   "source": [
    "sales.Sales.cumsum()"
   ]
  },
  {
   "cell_type": "markdown",
   "metadata": {},
   "source": [
    "## sample()"
   ]
  },
  {
   "cell_type": "code",
   "execution_count": null,
   "metadata": {},
   "outputs": [],
   "source": [
    "sales.sample(500)"
   ]
  },
  {
   "cell_type": "code",
   "execution_count": null,
   "metadata": {},
   "outputs": [],
   "source": [
    "sales.to_csv('sales.csv')"
   ]
  },
  {
   "cell_type": "code",
   "execution_count": null,
   "metadata": {},
   "outputs": [],
   "source": [
    "## replace()"
   ]
  },
  {
   "cell_type": "code",
   "execution_count": null,
   "metadata": {},
   "outputs": [],
   "source": [
    "# 98 and 99 weights are codes for unknown\n",
    "salary.weight_lb.replace([98,99], np.nan)"
   ]
  },
  {
   "cell_type": "markdown",
   "metadata": {},
   "source": [
    "# Pair Programming\n",
    "Congratulations!  After making through Week 3, I wanted to award you with a exciting challenge.  You have been given the title of Junior Data Analyst for a board/card game company called 'High-Five Games'.  Their most successful fantasy card game 'Monsters under my bed'. The company would like you to produce a report the converts the player purchasing data into meaningful insights.\n",
    "\n",
    "Use your pandas skills to answer the following questions.\n",
    "All data is contained within monster_trading_cards.csv\n",
    "\n",
    "## Number of Players\n",
    "* What is the total number of unique players(user_name)\n",
    "\n",
    "## Calculate Totals\n",
    "* Number of Unique Monsters\n",
    "* Average Purchase Price\n",
    "* Total Number of Purchases\n",
    "* Total Revenue\n",
    "\n",
    "## Breakdown the Gender Demographics\n",
    "* % and number of males\n",
    "* % and number of females\n",
    "* % and number of non-disclosed\n",
    "\n",
    "## Purchases by men\n",
    "* number of purchases\n",
    "* Average Purchase Price\n",
    "* Total Purchase amount"
   ]
  }
 ],
 "metadata": {
  "kernelspec": {
   "display_name": "Python 3",
   "language": "python",
   "name": "python3"
  },
  "language_info": {
   "codemirror_mode": {
    "name": "ipython",
    "version": 3
   },
   "file_extension": ".py",
   "mimetype": "text/x-python",
   "name": "python",
   "nbconvert_exporter": "python",
   "pygments_lexer": "ipython3",
   "version": "3.8.0"
  }
 },
 "nbformat": 4,
 "nbformat_minor": 4
}
